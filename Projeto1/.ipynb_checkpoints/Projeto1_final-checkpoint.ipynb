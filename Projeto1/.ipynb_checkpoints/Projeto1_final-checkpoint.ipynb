{
 "cells": [
  {
   "cell_type": "markdown",
   "metadata": {},
   "source": [
    "___\n",
    "# Ciência dos Dados - PROJETO 1"
   ]
  },
  {
   "cell_type": "markdown",
   "metadata": {},
   "source": [
    "## Guilherme Silvarolli Aliperti- 2A\n",
    "___"
   ]
  },
  {
   "cell_type": "markdown",
   "metadata": {},
   "source": [
    "## Internet: Análise dos diferentes aparelhos e formas de acesso"
   ]
  },
  {
   "cell_type": "markdown",
   "metadata": {},
   "source": [
    "___\n",
    "## Introdução\n",
    "\n",
    "Qual aparelho(celular ou outros aparelhos) e qual metodo de acesso(3G ou banda larga) é mais utilizado por pessoas com renda familiar per capita até 2 salários mínimos?\n",
    "\n"
   ]
  },
  {
   "cell_type": "markdown",
   "metadata": {},
   "source": [
    "Variáveis de interesse:\n",
    "-Faixa de renda\n",
    "-Utiliza o telefone para acessar a internet\n",
    "-Utiliza outros aparelhos\n",
    "-Utiliza internet de dados moveis(3G ou 4G)\n",
    "-Utiliza internet banda larga"
   ]
  },
  {
   "cell_type": "markdown",
   "metadata": {},
   "source": [
    "___\n",
    "## Análise e Resultados"
   ]
  },
  {
   "cell_type": "code",
   "execution_count": 4,
   "metadata": {
    "collapsed": true
   },
   "outputs": [],
   "source": [
    "%matplotlib inline\n",
    "import pandas as pd\n",
    "import matplotlib.pyplot as plt\n",
    "import numpy as np\n",
    "import os"
   ]
  },
  {
   "cell_type": "code",
   "execution_count": 5,
   "metadata": {
    "collapsed": false
   },
   "outputs": [
    {
     "name": "stdout",
     "output_type": "stream",
     "text": [
      "Esperamos trabalhar no diretório\n",
      "C:\\Users\\guial\\Documents\\guizika\\2A\\Ciência dos dados\\Repositório projeto 1\\CD2A\\Projeto1\n"
     ]
    }
   ],
   "source": [
    "print('Esperamos trabalhar no diretório')\n",
    "print(os.getcwd())"
   ]
  },
  {
   "cell_type": "code",
   "execution_count": 7,
   "metadata": {
    "collapsed": false
   },
   "outputs": [],
   "source": [
    "dados_novo = pd.read_csv('DOM2015.csv',sep=',')\n",
    "\n",
    "#limpando os valores invalidos\n",
    "dados_2015 = dados_novo[pd.notnull(dados_novo.V4622)&pd.notnull(dados_novo.V02324)&pd.notnull(dados_novo.V02327)&pd.notnull(dados_novo.V02424)&pd.notnull(dados_novo.V02426)]\n",
    "\n",
    "df15= pd.DataFrame()\n",
    "df15[\"Salarios minimos per capita\"] = dados_2015.V4622\n",
    "df15[\"Acesso por telefone\"] = dados_2015.V02324\n",
    "df15[\"Outros aparelhos\"] = dados_2015.V02327\n",
    "df15[\"Uso por 3G\"] = dados_2015.V02424\n",
    "df15[\"Banda larga\"] = dados_2015.V02426\n"
   ]
  },
  {
   "cell_type": "code",
   "execution_count": 8,
   "metadata": {
    "collapsed": true
   },
   "outputs": [],
   "source": [
    "#Categoriza 0\n",
    "df15[\"Salarios minimos per capita\"] = df15[\"Salarios minimos per capita\"].astype(\"category\")\n",
    "df15[\"Salarios minimos per capita\"].cat.categories = ([\"Sem renda\", \"até 1/4\", \"até 1/2\", \"até 1\", \"até 2\",\"até 3\",\"até 5\",\"mais de 5\",\"N/A\"])\n",
    "\n",
    "df15[\"Acesso por telefone\"] = df15[\"Acesso por telefone\"].astype(\"category\")\n",
    "df15[\"Acesso por telefone\"].cat.categories = ([\"sim\", \"nao\"])\n",
    "\n",
    "df15[\"Outros aparelhos\"] = df15[\"Outros aparelhos\"].astype(\"category\")\n",
    "df15[\"Outros aparelhos\"].cat.categories = ([\"sim\", \"nao\"])\n",
    "\n",
    "df15[\"Uso por 3G\"] = df15[\"Uso por 3G\"].astype(\"category\")\n",
    "df15[\"Uso por 3G\"].cat.categories = ([\"sim\", \"nao\"])\n",
    "\n",
    "df15[\"Banda larga\"] = df15[\"Banda larga\"].astype(\"category\")\n",
    "df15[\"Banda larga\"].cat.categories = ([\"sim\", \"nao\"])"
   ]
  },
  {
   "cell_type": "code",
   "execution_count": 9,
   "metadata": {
    "collapsed": false
   },
   "outputs": [
    {
     "name": "stdout",
     "output_type": "stream",
     "text": [
      "Frequências relativas acesso por telefone:\n",
      "sim    92.9\n",
      "nao     7.1\n",
      "Name: Acesso por telefone, dtype: float64\n",
      "Outros aparelhos\n",
      "sim     0.9\n",
      "nao    99.1\n",
      "Name: Outros aparelhos, dtype: float64\n"
     ]
    }
   ],
   "source": [
    "#Frequencias  relativas\n",
    "print('Frequências relativas acesso por telefone:')\n",
    "freq_telefone = (df15[\"Acesso por telefone\"].value_counts(sort=False, normalize=True)*100).round(decimals=1)\n",
    "print(freq_telefone)\n",
    "print(\"Outros aparelhos\")\n",
    "freq_outros =(df15[\"Outros aparelhos\"].value_counts(sort=False, normalize=True)*100).round(decimals=1)\n",
    "print(freq_outros)"
   ]
  },
  {
   "cell_type": "code",
   "execution_count": 11,
   "metadata": {
    "collapsed": false
   },
   "outputs": [
    {
     "data": {
      "image/png": "[encoded data removed]",
      "text/plain": [
       "<matplotlib.figure.Figure at 0x18e017f7f98>"
      ]
     },
     "metadata": {},
     "output_type": "display_data"
    }
   ],
   "source": [
    "#Filtrando somente o sim\n",
    "telefone_sim = dados_2015.V02324[dados_2015.V02324 == 2]\n",
    "\n",
    "renda_telefone = pd.crosstab(df15[\"Salarios minimos per capita\"], telefone_sim)\n",
    "renda_telefone.plot.bar(title=\"Uso de internet por meio de telefone em diferentes faixas salariais\").legend(bbox_to_anchor=(1.05, 1), loc=2, borderaxespad=0.)\n",
    "\n",
    "plt.show()"
   ]
  },
  {
   "cell_type": "code",
   "execution_count": 12,
   "metadata": {
    "collapsed": false
   },
   "outputs": [
    {
     "data": {
      "image/png": "[encoded data removed]",
      "text/plain": [
       "<matplotlib.figure.Figure at 0x18e02e195c0>"
      ]
     },
     "metadata": {},
     "output_type": "display_data"
    }
   ],
   "source": [
    "#Filtrando o sim de outros aparelhos\n",
    "outros_sim = dados_2015.V02327[dados_2015.V02327 == 2]\n",
    "renda_outros = pd.crosstab(df15[\"Salarios minimos per capita\"], outros_sim)\n",
    "renda_outros.plot.bar(title=\"Uso de outros aparelhos para acessar a internet em diferentes faixas salariais\").legend(bbox_to_anchor=(1.05, 1), loc=2, borderaxespad=0.)\n",
    "\n",
    "\n",
    "plt.show()"
   ]
  },
  {
   "cell_type": "markdown",
   "metadata": {},
   "source": [
    "Observando os gráficos acima é possivel concluir que o uso de outros aparelhos para acessar a internet é mais comum em familias de maior renda."
   ]
  },
  {
   "cell_type": "markdown",
   "metadata": {},
   "source": [
    "Agora vamos filtrar para analisar a faixa salarial desejada."
   ]
  },
  {
   "cell_type": "code",
   "execution_count": 13,
   "metadata": {
    "collapsed": true
   },
   "outputs": [],
   "source": [
    "#Frequencia relativa em ate 2 salarios minimos\n",
    "#Filtrando somente as pessoas com a faixa de salario que desejamos analisar\n",
    "dados_salario4 = df15[df15[\"Salarios minimos per capita\"] == \"até 2\"]\n",
    "freq_telefone4 = (dados_salario4[\"Acesso por telefone\"].value_counts(sort=False, normalize=True)*100).round(decimals=1)\n",
    "freq_outros4 = (dados_salario4[\"Outros aparelhos\"].value_counts(sort=False, normalize=True)*100).round(decimals=1)\n",
    "freq_banda = (dados_salario4[\"Banda larga\"].value_counts(sort=False, normalize=True)*100).round(decimals=1)\n",
    "freq_3g = (dados_salario4[\"Uso por 3G\"].value_counts(sort=False, normalize=True)*100).round(decimals=1)"
   ]
  },
  {
   "cell_type": "code",
   "execution_count": 14,
   "metadata": {
    "collapsed": false
   },
   "outputs": [
    {
     "data": {
      "text/plain": [
       "<matplotlib.text.Text at 0x18e02b735c0>"
      ]
     },
     "execution_count": 14,
     "metadata": {},
     "output_type": "execute_result"
    },
    {
     "data": {
      "image/png": "[encoded data removed]",
      "text/plain": [
       "<matplotlib.figure.Figure at 0x18e02e09c88>"
      ]
     },
     "metadata": {},
     "output_type": "display_data"
    }
   ],
   "source": [
    "freq_telefone4.plot(kind = \"pie\")\n",
    "plt.title(\"Acesso a internet por meio de telefone na faixa salarial\")"
   ]
  },
  {
   "cell_type": "markdown",
   "metadata": {},
   "source": [
    "O gráfico acima nos permite afirmar que o uso de internet por meio de telefone é mais frequente que qualquer outro aparelho na faixa salarial escolhida.\n"
   ]
  },
  {
   "cell_type": "code",
   "execution_count": 15,
   "metadata": {
    "collapsed": false
   },
   "outputs": [
    {
     "data": {
      "text/plain": [
       "<matplotlib.axes._subplots.AxesSubplot at 0x18e028a26a0>"
      ]
     },
     "execution_count": 15,
     "metadata": {},
     "output_type": "execute_result"
    },
    {
     "data": {
      "image/png": "[encoded data removed]",
      "text/plain": [
       "<matplotlib.figure.Figure at 0x18e02b49e10>"
      ]
     },
     "metadata": {},
     "output_type": "display_data"
    }
   ],
   "source": [
    "banda_3g = pd.crosstab(dados_salario4[\"Uso por 3G\"], dados_salario4[\"Banda larga\"])\n",
    "banda_3g.plot(kind = \"bar\")"
   ]
  },
  {
   "cell_type": "markdown",
   "metadata": {},
   "source": [
    "Atraves da análise do gráfico acima podemos afirmar que o uso por meio de dados moveis(3G ou 4G) é mais frequente na faixa salarial escolhida. Além disso é possível observar que dificilmente alguem que não utiliza 3G vai fazer o uso de banda larga."
   ]
  },
  {
   "cell_type": "code",
   "execution_count": null,
   "metadata": {
    "collapsed": true
   },
   "outputs": [],
   "source": []
  },
  {
   "cell_type": "code",
   "execution_count": null,
   "metadata": {
    "collapsed": true
   },
   "outputs": [],
   "source": []
  },
  {
   "cell_type": "markdown",
   "metadata": {},
   "source": [
    "___\n",
    "## Conclusão "
   ]
  },
  {
   "cell_type": "markdown",
   "metadata": {
    "collapsed": true
   },
   "source": [
    "Descreva aqui suas conclusões!"
   ]
  },
  {
   "cell_type": "code",
   "execution_count": null,
   "metadata": {
    "collapsed": true
   },
   "outputs": [],
   "source": []
  }
 ],
 "metadata": {
  "anaconda-cloud": {},
  "kernelspec": {
   "display_name": "Python 3",
   "language": "python",
   "name": "python3"
  },
  "language_info": {
   "codemirror_mode": {
    "name": "ipython",
    "version": 3
   },
   "file_extension": ".py",
   "mimetype": "text/x-python",
   "name": "python",
   "nbconvert_exporter": "python",
   "pygments_lexer": "ipython3",
   "version": "3.6.0"
  }
 },
 "nbformat": 4,
 "nbformat_minor": 1
}
